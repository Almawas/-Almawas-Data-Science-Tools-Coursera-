{
  "metadata": {
    "kernelspec": {
      "name": "python",
      "display_name": "Python (Pyodide)",
      "language": "python"
    },
    "language_info": {
      "codemirror_mode": {
        "name": "python",
        "version": 3
      },
      "file_extension": ".py",
      "mimetype": "text/x-python",
      "name": "python",
      "nbconvert_exporter": "python",
      "pygments_lexer": "ipython3",
      "version": "3.8"
    }
  },
  "nbformat_minor": 4,
  "nbformat": 4,
  "cells": [
    {
      "cell_type": "markdown",
      "source": "Exercise 1: in this exercise, I created the jupyter lite notebook titled with: DataScienceEcosystem ",
      "metadata": {
        "tags": [],
        "editable": true,
        "slideshow": {
          "slide_type": ""
        }
      }
    },
    {
      "cell_type": "markdown",
      "source": "Exercise 2:  in this exercise, I created the markdown for the name of the notebook\n1pt \n# Data Science Ecosystem\n",
      "metadata": {}
    },
    {
      "cell_type": "markdown",
      "source": "Exercise 3: in this exercise, I created the markdown for the introduction 1pt \n# Introduction\n\nThis cell includes the introduction to the Data Science and the Ecosystem Jupyterlite notbook as a part of the final assignment, exercise no 3",
      "metadata": {}
    },
    {
      "cell_type": "markdown",
      "source": "Exercise 4 - Create a markdown cell to list data science languages. (3 pts)\n\n### List data science languages:\n1. Python\n2. R\n3. SQL \n4. MATLAB\n5. Julia\n6. Java\n7. JavaScript",
      "metadata": {}
    },
    {
      "cell_type": "markdown",
      "source": "Exercise 5 - Create a markdown cell to list data science libraries. (3 pts)\n\n### List data science libraries:\n\n1. Python: NumPy, pandas, Matplotlib, Seaborn, scikit-learn, TensorFlow, Pytorch, Scipy\n2. R: dplyr, ggplot2, caret, tidyr, randomForest, glmnet\n3. Julia: DataFrames, Plots.jl, JuMP",
      "metadata": {}
    },
    {
      "cell_type": "markdown",
      "source": "Exercise 10 -Insert a markdown cell to list Objectives. (3 pts)\n\n### List Objectives of the course: \n\n1. To know different tools used for data science\n2. To be able to chose the proper tool according to the porpuse and the task\n3. etc...",
      "metadata": {}
    },
    {
      "cell_type": "markdown",
      "source": "Exercise 6 - Create a markdown cell with a table of Data Science tools. (3 pts)\n\n### | Language   | Libraries/Frameworks            |\n|------------|--------------------------------|\n| Python     | NumPy, pandas, Matplotlib, Seaborn, scikit-learn, TensorFlow, PyTorch, SciPy |\n| R          | dplyr, ggplot2, caret, tidyr, randomForest, glmnet |\n| Julia      | DataFrames.jl, Plots.jl, Flux.jl, JuMP |\n| SQL        | SQL Server, MySQL, PostgreSQL, SQLite |\n\n",
      "metadata": {}
    },
    {
      "cell_type": "code",
      "source": "markdown_content = \"\"\"\n| Language   | Libraries/Frameworks            |\n|------------|--------------------------------|\n| Python     | NumPy, pandas, Matplotlib, Seaborn, scikit-learn, TensorFlow, PyTorch, SciPy |\n| R          | dplyr, ggplot2, caret, tidyr, randomForest, glmnet |\n| Julia      | DataFrames.jl, Plots.jl, Flux.jl, JuMP |\n| SQL        | SQL Server, MySQL, PostgreSQL, SQLite |\n\"\"\"\n# Display the markdown content\ndisplay(Markdown(markdown_content))\n",
      "metadata": {
        "trusted": true
      },
      "outputs": [
        {
          "output_type": "display_data",
          "data": {
            "text/plain": "<IPython.core.display.Markdown object>",
            "text/markdown": "\n| Language   | Libraries/Frameworks            |\n|------------|--------------------------------|\n| Python     | NumPy, pandas, Matplotlib, Seaborn, scikit-learn, TensorFlow, PyTorch, SciPy |\n| R          | dplyr, ggplot2, caret, tidyr, randomForest, glmnet |\n| Julia      | DataFrames.jl, Plots.jl, Flux.jl, JuMP |\n| SQL        | SQL Server, MySQL, PostgreSQL, SQLite |\n"
          },
          "metadata": {}
        }
      ],
      "execution_count": 9
    },
    {
      "cell_type": "markdown",
      "source": "Exercise 7 - Create a markdown cell introducing arithmetic expression examples. (1 pt)\n\nAddition: \na = 3\nb = 5\n\nx = a + b \n",
      "metadata": {}
    },
    {
      "cell_type": "code",
      "source": "#Exercise 8 - Create a code cell to multiply and add numbers. (2 pts)\n\na = 3\nb = 5\n#Multiplication:\n\nx1 = a * b \nprint(x1)\n#Addition:\n\nx2 = a + b \nprint(x2)",
      "metadata": {
        "trusted": true
      },
      "outputs": [
        {
          "name": "stdout",
          "text": "15\n8\n",
          "output_type": "stream"
        }
      ],
      "execution_count": 14
    },
    {
      "cell_type": "code",
      "source": "#Exercise 9 - Create a code cell to convert minutes to hours. (2 pts)\n\n# 1 hour = 60 min \n# 1 min = 1/60 hours\n\n# X is to convert 15 mins to hours: \n\nx = 15 * (1/60) \nprint(x)",
      "metadata": {
        "trusted": true
      },
      "outputs": [
        {
          "name": "stdout",
          "text": "0.25\n",
          "output_type": "stream"
        }
      ],
      "execution_count": 15
    },
    {
      "cell_type": "markdown",
      "source": "Exercise 11 - Create a markdown cell to indicate the Author’s name. (2 pts):\n\n## Al-Mawas",
      "metadata": {}
    },
    {
      "cell_type": "code",
      "source": "",
      "metadata": {
        "trusted": true
      },
      "outputs": [],
      "execution_count": null
    }
  ]
}